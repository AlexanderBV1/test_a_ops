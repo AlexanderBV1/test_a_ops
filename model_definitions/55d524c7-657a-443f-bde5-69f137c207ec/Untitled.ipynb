{
 "cells": [
  {
   "cell_type": "markdown",
   "id": "40ebec3a",
   "metadata": {},
   "source": [
    "## Modelo de prueba para Bimbo - Mexico"
   ]
  },
  {
   "cell_type": "code",
   "execution_count": 4,
   "id": "f27e0457",
   "metadata": {},
   "outputs": [
    {
     "ename": "SyntaxError",
     "evalue": "invalid syntax (<ipython-input-4-26fc75a12941>, line 4)",
     "output_type": "error",
     "traceback": [
      "\u001b[0;36m  File \u001b[0;32m\"<ipython-input-4-26fc75a12941>\"\u001b[0;36m, line \u001b[0;32m4\u001b[0m\n\u001b[0;31m    scikit-learn>=0.22.2\u001b[0m\n\u001b[0m                       ^\u001b[0m\n\u001b[0;31mSyntaxError\u001b[0m\u001b[0;31m:\u001b[0m invalid syntax\n"
     ]
    }
   ],
   "source": [
    "# Requerimientos\n",
    "%%writefile ../model_modules/requirements.txt\n",
    "xgboost==0.90\n",
    "scikit-learn>=0.22.2\n",
    "shap>=0.36.0\n",
    "matplotlib>=2.2.2\n",
    "teradataml>=17.0.0.0\n",
    "nyoka>=4.3.0\n",
    "joblib>=0.14.1"
   ]
  },
  {
   "cell_type": "code",
   "execution_count": 5,
   "id": "fbba362e",
   "metadata": {},
   "outputs": [
    {
     "ename": "SyntaxError",
     "evalue": "unexpected EOF while parsing (<ipython-input-5-5b8788cd25ac>, line 3)",
     "output_type": "error",
     "traceback": [
      "\u001b[0;36m  File \u001b[0;32m\"<ipython-input-5-5b8788cd25ac>\"\u001b[0;36m, line \u001b[0;32m3\u001b[0m\n\u001b[0;31m    {\u001b[0m\n\u001b[0m     ^\u001b[0m\n\u001b[0;31mSyntaxError\u001b[0m\u001b[0;31m:\u001b[0m unexpected EOF while parsing\n"
     ]
    }
   ],
   "source": [
    "# Hiperparametros\n",
    "%%writefile ../config.json\n",
    "{\n",
    "\t\"hyperParameters\": {\n",
    "        penalty:\"l2\"\n",
    "        random_state:1337\n",
    "\t}\n",
    "}"
   ]
  },
  {
   "cell_type": "code",
   "execution_count": null,
   "id": "04c12a15",
   "metadata": {},
   "outputs": [],
   "source": []
  }
 ],
 "metadata": {
  "kernelspec": {
   "display_name": "Python 3",
   "language": "python",
   "name": "python3"
  },
  "language_info": {
   "codemirror_mode": {
    "name": "ipython",
    "version": 3
   },
   "file_extension": ".py",
   "mimetype": "text/x-python",
   "name": "python",
   "nbconvert_exporter": "python",
   "pygments_lexer": "ipython3",
   "version": "3.7.10"
  }
 },
 "nbformat": 4,
 "nbformat_minor": 5
}
