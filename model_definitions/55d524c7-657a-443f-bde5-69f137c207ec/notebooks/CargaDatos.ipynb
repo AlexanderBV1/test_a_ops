{
 "cells": [
  {
   "cell_type": "markdown",
   "id": "279ae0dd-3e75-4dc2-8406-5fb2212439d4",
   "metadata": {},
   "source": [
    "# Caso de Uso: RRHH Accidentalidad\n",
    "\n",
    "Este es un ejemplo de un modelo de accidentalidad para Bimbo México. En este notebook vamos a generar las vistas y tablas que usaremos en este caso de uso. Para ello usaremos el kernel de **Teradata SQL**.\n",
    "\n",
    "## Crear la conexión a Teradata Vantage"
   ]
  },
  {
   "cell_type": "code",
   "execution_count": null,
   "id": "b00cca72-0fa2-487f-a251-a8c4ed0f3d7f",
   "metadata": {},
   "outputs": [],
   "source": [
    "%var systemName=\"Vantage POC\", user=\"aoa_service\", host=\"13.68.232.78\", db=\"aoa_data\""
   ]
  },
  {
   "cell_type": "code",
   "execution_count": null,
   "id": "4873f500-5dfa-4e9c-916d-793002066c68",
   "metadata": {},
   "outputs": [],
   "source": [
    "%addconnect name=${systemName}, user=${user}, host=${host}"
   ]
  },
  {
   "cell_type": "code",
   "execution_count": null,
   "id": "6baf38b5-a6fe-44f3-b0f4-47eeccaf6a6e",
   "metadata": {},
   "outputs": [],
   "source": [
    "%connect ${systemName}"
   ]
  },
  {
   "cell_type": "markdown",
   "id": "482faa49-cdaa-4d6a-a3d6-07de5dcd1a37",
   "metadata": {},
   "source": [
    "#### Establecemos la base de datos de Vantage"
   ]
  },
  {
   "cell_type": "code",
   "execution_count": null,
   "id": "89830b44-bfe1-40fb-ac6b-2bc20388ba34",
   "metadata": {},
   "outputs": [],
   "source": [
    "DATABASE ${db}"
   ]
  },
  {
   "cell_type": "markdown",
   "id": "95f0748c-7ca3-4eef-a06a-3215f9611550",
   "metadata": {},
   "source": [
    "## Crear datos de entrenamiento\n",
    "\n",
    "Para ello crearemos una vista materializada únicamente con las columnas que usaremos en la fase de entrenamiento (features + target)."
   ]
  },
  {
   "cell_type": "code",
   "execution_count": null,
   "id": "4ea949e1-55e3-4beb-a25d-80502f0c20cd",
   "metadata": {},
   "outputs": [],
   "source": [
    "REPLACE VIEW aoa_data.ACC_TRAIN AS\n",
    "    SELECT\n",
    "        ROW_NUMBER() OVER(ORDER BY edad_planta) AS id,\n",
    "        estado_civil_jefe_CASADO_accidentes,\n",
    "        nivel_Operativo_accidentes, \n",
    "        antiguedad_empresa_accidentes,\n",
    "        masculino_planta,\n",
    "        severidad_con_seguras_ci_dSegura,\n",
    "        total_reportes_accidentes,\n",
    "        severidad_con_Seguras_ci_cBajo,\n",
    "        supervisor_planta,\n",
    "        edad_planta,\n",
    "        pais_COSTA_RICA_value_1_0,\n",
    "        mes_anterior_value_1,\n",
    "        accidentes_total_value_1,\n",
    "        pais_COLOMBIA_value_1_0,\n",
    "        pais_HONDURAS_value_1_0,\n",
    "        lugar_de_trabajo_PLANTA_value_1_0,\n",
    "        pais_VENEZUELA_value_1_0,\n",
    "        pais_EL_SALVADOR_value_1_0,\n",
    "        pais_PANAMA_value_1_0,\n",
    "        ptarget\n",
    "        FROM aoa_data.train_tbl;"
   ]
  },
  {
   "cell_type": "code",
   "execution_count": null,
   "id": "fe0afd91-0f72-4fea-a7a7-597c25f5b9f2",
   "metadata": {},
   "outputs": [],
   "source": [
    "SELECT * FROM aoa_data.ACC_TRAIN;"
   ]
  },
  {
   "cell_type": "markdown",
   "id": "8c8ad2b1-38f7-4f08-8321-c12a875d9f73",
   "metadata": {},
   "source": [
    "## Crear datos de evaluación\n",
    "\n",
    "Para ello crearemos una vista materializada únicamente con las columnas que usaremos en la fase de evaluación (features + target)."
   ]
  },
  {
   "cell_type": "code",
   "execution_count": null,
   "id": "4be033a2-23e7-4289-92df-ed97f6fda773",
   "metadata": {},
   "outputs": [],
   "source": [
    "REPLACE VIEW aoa_data.ACC_TEST AS\n",
    "    SELECT\n",
    "        ROW_NUMBER() OVER(ORDER BY edad_planta) AS id,\n",
    "        estado_civil_jefe_CASADO_accidentes,\n",
    "        nivel_Operativo_accidentes, \n",
    "        antiguedad_empresa_accidentes,\n",
    "        masculino_planta,\n",
    "        severidad_con_seguras_ci_dSegura,\n",
    "        total_reportes_accidentes,\n",
    "        severidad_con_Seguras_ci_cBajo,\n",
    "        supervisor_planta,\n",
    "        edad_planta,\n",
    "        pais_COSTA_RICA_value_1_0,\n",
    "        mes_anterior_value_1,\n",
    "        accidentes_total_value_1,\n",
    "        pais_COLOMBIA_value_1_0,\n",
    "        pais_HONDURAS_value_1_0,\n",
    "        lugar_de_trabajo_PLANTA_value_1_0,\n",
    "        pais_VENEZUELA_value_1_0,\n",
    "        pais_EL_SALVADOR_value_1_0,\n",
    "        pais_PANAMA_value_1_0,\n",
    "        ptarget\n",
    "        FROM aoa_data.train_tbl;"
   ]
  },
  {
   "cell_type": "code",
   "execution_count": null,
   "id": "2117a54f-4126-45b1-9dcf-96440c4a74a0",
   "metadata": {},
   "outputs": [],
   "source": [
    "SELECT * FROM aoa_data.ACC_TEST;"
   ]
  },
  {
   "cell_type": "markdown",
   "id": "0e23b2b2-349c-4791-8cb2-2679b51e5f5a",
   "metadata": {},
   "source": [
    "Copyright 2021 Teradata. All rights reserved."
   ]
  }
 ],
 "metadata": {
  "kernelspec": {
   "display_name": "Teradata SQL",
   "language": "Teradata SQL",
   "name": "teradatasql"
  },
  "language_info": {
   "codemirror_mode": "Teradata SQL",
   "file_extension": ".tdrs",
   "mimetype": "application/vnd.teradata.resultset",
   "name": "Teradata SQL",
   "nbconvert_exporter": "",
   "pygments_lexer": "",
   "version": "16.20"
  }
 },
 "nbformat": 4,
 "nbformat_minor": 5
}
