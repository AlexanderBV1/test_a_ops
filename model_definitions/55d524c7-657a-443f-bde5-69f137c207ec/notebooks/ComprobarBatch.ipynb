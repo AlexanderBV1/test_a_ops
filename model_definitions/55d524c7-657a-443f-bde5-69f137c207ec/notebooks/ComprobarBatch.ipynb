{
 "cells": [
  {
   "cell_type": "markdown",
   "id": "279ae0dd-3e75-4dc2-8406-5fb2212439d4",
   "metadata": {},
   "source": [
    "# Comprobar predicciones Batch\n",
    "\n",
    "En este notebook vamos a consultar las prediciones realizadas en el modo batch. Para ello usaremos el kernel de **Teradata SQL**.\n",
    "\n",
    "## Crear la conexión a Teradata Vantage"
   ]
  },
  {
   "cell_type": "code",
   "execution_count": null,
   "id": "b00cca72-0fa2-487f-a251-a8c4ed0f3d7f",
   "metadata": {},
   "outputs": [],
   "source": [
    "%var systemName=\"Vantage POC\", user=\"aoa_service\", host=\"40.117.178.55\", db=\"aoa_data\""
   ]
  },
  {
   "cell_type": "code",
   "execution_count": null,
   "id": "4873f500-5dfa-4e9c-916d-793002066c68",
   "metadata": {},
   "outputs": [],
   "source": [
    "%addconnect name=${systemName}, user=${user}, host=${host}"
   ]
  },
  {
   "cell_type": "code",
   "execution_count": null,
   "id": "6baf38b5-a6fe-44f3-b0f4-47eeccaf6a6e",
   "metadata": {},
   "outputs": [],
   "source": [
    "%connect ${systemName}"
   ]
  },
  {
   "cell_type": "markdown",
   "id": "482faa49-cdaa-4d6a-a3d6-07de5dcd1a37",
   "metadata": {},
   "source": [
    "#### Establecemos la base de datos de Vantage"
   ]
  },
  {
   "cell_type": "code",
   "execution_count": null,
   "id": "89830b44-bfe1-40fb-ac6b-2bc20388ba34",
   "metadata": {},
   "outputs": [],
   "source": [
    "DATABASE ${db}"
   ]
  },
  {
   "cell_type": "markdown",
   "id": "95f0748c-7ca3-4eef-a06a-3215f9611550",
   "metadata": {},
   "source": [
    "## Comprobar las predicciones\n",
    "\n",
    "Para ejecutamos la siguiente consulta"
   ]
  },
  {
   "cell_type": "code",
   "execution_count": null,
   "id": "fe0afd91-0f72-4fea-a7a7-597c25f5b9f2",
   "metadata": {},
   "outputs": [],
   "source": [
    "SELECT * FROM aoa_data.ACC_PREDICTIONS;"
   ]
  },
  {
   "cell_type": "markdown",
   "id": "8c8ad2b1-38f7-4f08-8321-c12a875d9f73",
   "metadata": {},
   "source": [
    "## Eliminar la tabla de predicciones\n",
    "\n",
    "Para asegurarnos que en la próxima ejecución no de lugar a dudas de que la predicción se ha realizado correctamente, debemos eliminar la tabla."
   ]
  },
  {
   "cell_type": "code",
   "execution_count": null,
   "id": "4be033a2-23e7-4289-92df-ed97f6fda773",
   "metadata": {},
   "outputs": [],
   "source": [
    "DROP TABLE aoa_data.ACC_PREDICTIONS;"
   ]
  },
  {
   "cell_type": "markdown",
   "id": "0e23b2b2-349c-4791-8cb2-2679b51e5f5a",
   "metadata": {},
   "source": [
    "Copyright 2021 Teradata. All rights reserved."
   ]
  }
 ],
 "metadata": {
  "kernelspec": {
   "display_name": "Teradata SQL",
   "language": "Teradata SQL",
   "name": "teradatasql"
  },
  "language_info": {
   "codemirror_mode": "Teradata SQL",
   "file_extension": ".tdrs",
   "mimetype": "application/vnd.teradata.resultset",
   "name": "Teradata SQL",
   "nbconvert_exporter": "",
   "pygments_lexer": "",
   "version": "16.20"
  }
 },
 "nbformat": 4,
 "nbformat_minor": 5
}
