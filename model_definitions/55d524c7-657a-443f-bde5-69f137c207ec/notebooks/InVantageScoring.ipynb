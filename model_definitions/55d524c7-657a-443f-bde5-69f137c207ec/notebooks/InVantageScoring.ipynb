{
 "cells": [
  {
   "cell_type": "markdown",
   "metadata": {},
   "source": [
    "# In-Vantage Scoring a través de PMML\n",
    "\n",
    "Como parte del modelo de RRHH Accidentalidad, se genera una representación PMML del modelo de regresión logística gracias al código\n",
    "\n",
    "```python\n",
    "from nyoka import skl_to_pmml\n",
    "...\n",
    "skl_to_pmml(pipeline=model, col_names=feature_names, target_name=target_name, pmml_f_name=\"artifacts/output/model.pmml\")\n",
    "```\n",
    "\n",
    "Se puede desplegar esto en modo In-Vantage a través de la interfaz gráfica de AnalyticOps, de la misma forma que los modos RESTFul y Batch.\n",
    "Este notebook muestra como se puede usar este modo para realizar scoring de modelos por medio de consultas SQL."
   ]
  },
  {
   "cell_type": "code",
   "execution_count": 1,
   "metadata": {},
   "outputs": [],
   "source": [
    "import os\n",
    "import pandas as pd\n",
    "import getpass\n",
    "\n",
    "from teradataml import create_context, remove_context\n",
    "from teradataml.context.context import get_connection"
   ]
  },
  {
   "cell_type": "code",
   "execution_count": 2,
   "metadata": {},
   "outputs": [
    {
     "name": "stdin",
     "output_type": "stream",
     "text": [
      "Contraseña ···········\n"
     ]
    }
   ],
   "source": [
    "password = getpass.getpass(\"Contraseña\")\n",
    "\n",
    "engine = create_context(host=\"40.117.178.55\", username=\"aoa_service\", password=password, database=\"aoa_data\")\n",
    "conn = get_connection()\n",
    "cursor = engine.raw_connection().cursor()"
   ]
  },
  {
   "cell_type": "markdown",
   "metadata": {},
   "source": [
    "## Ver los modelos publicados\n",
    "\n",
    "Es posible ver los modelos publicados en **Vantage** consultando la tabla en donde están publicados. Nota: esta información también está disponible a través del API de AnalyticOps."
   ]
  },
  {
   "cell_type": "code",
   "execution_count": 3,
   "metadata": {},
   "outputs": [
    {
     "data": {
      "text/html": [
       "<div>\n",
       "<style scoped>\n",
       "    .dataframe tbody tr th:only-of-type {\n",
       "        vertical-align: middle;\n",
       "    }\n",
       "\n",
       "    .dataframe tbody tr th {\n",
       "        vertical-align: top;\n",
       "    }\n",
       "\n",
       "    .dataframe thead th {\n",
       "        text-align: right;\n",
       "    }\n",
       "</style>\n",
       "<table border=\"1\" class=\"dataframe\">\n",
       "  <thead>\n",
       "    <tr style=\"text-align: right;\">\n",
       "      <th></th>\n",
       "      <th>model_version</th>\n",
       "      <th>model_id</th>\n",
       "      <th>model_type</th>\n",
       "      <th>project_id</th>\n",
       "      <th>deployed_at</th>\n",
       "      <th>model</th>\n",
       "    </tr>\n",
       "  </thead>\n",
       "  <tbody>\n",
       "    <tr>\n",
       "      <th>0</th>\n",
       "      <td>dbc5f29e-ac76-441e-8025-9344307f635f</td>\n",
       "      <td>f937b5d8-02c6-5150-80c7-1e4ff07fea31</td>\n",
       "      <td>PMML</td>\n",
       "      <td>23e1df4b-b630-47a1-ab80-7ad5385fcd8d</td>\n",
       "      <td>2022-01-10 19:08:24.130</td>\n",
       "      <td>b'&lt;?xml version=\"1.0\" encoding=\"UTF-8\"?&gt;\\n&lt;PMML xmlns=\"http://www.dmg.org/PMML-4_4\" version=\"4.4\"&gt;\\n    &lt;Header copyright=\"Copyright (c) 2018 Software AG\" description=\"Default Description\"&gt;\\n        &lt;Application name=\"Nyoka\" version=\"4.3.0\"/&gt;\\n  ...</td>\n",
       "    </tr>\n",
       "    <tr>\n",
       "      <th>1</th>\n",
       "      <td>df300e1a-781b-4b3e-9b8e-f32ef54c7a89</td>\n",
       "      <td>73d3f5a1-a5a9-55fd-9fe8-298a8aa7929d</td>\n",
       "      <td>PMML</td>\n",
       "      <td>a85ede91-9b28-4a7d-bb32-eee2aaffa82f</td>\n",
       "      <td>2022-01-10 19:09:58.490</td>\n",
       "      <td>b'&lt;?xml version=\"1.0\" encoding=\"UTF-8\"?&gt;\\n&lt;PMML xmlns=\"http://www.dmg.org/PMML-4_4\" version=\"4.4\"&gt;\\n    &lt;Header copyright=\"Copyright (c) 2018 Software AG\" description=\"Default Description\"&gt;\\n        &lt;Application name=\"Nyoka\" version=\"4.3.0\"/&gt;\\n  ...</td>\n",
       "    </tr>\n",
       "  </tbody>\n",
       "</table>\n",
       "</div>"
      ],
      "text/plain": [
       "                          model_version                              model_id  \\\n",
       "0  dbc5f29e-ac76-441e-8025-9344307f635f  f937b5d8-02c6-5150-80c7-1e4ff07fea31   \n",
       "1  df300e1a-781b-4b3e-9b8e-f32ef54c7a89  73d3f5a1-a5a9-55fd-9fe8-298a8aa7929d   \n",
       "\n",
       "  model_type                            project_id             deployed_at  \\\n",
       "0       PMML  23e1df4b-b630-47a1-ab80-7ad5385fcd8d 2022-01-10 19:08:24.130   \n",
       "1       PMML  a85ede91-9b28-4a7d-bb32-eee2aaffa82f 2022-01-10 19:09:58.490   \n",
       "\n",
       "                                                                                                                                                                                                                                                       model  \n",
       "0  b'<?xml version=\"1.0\" encoding=\"UTF-8\"?>\\n<PMML xmlns=\"http://www.dmg.org/PMML-4_4\" version=\"4.4\">\\n    <Header copyright=\"Copyright (c) 2018 Software AG\" description=\"Default Description\">\\n        <Application name=\"Nyoka\" version=\"4.3.0\"/>\\n  ...  \n",
       "1  b'<?xml version=\"1.0\" encoding=\"UTF-8\"?>\\n<PMML xmlns=\"http://www.dmg.org/PMML-4_4\" version=\"4.4\">\\n    <Header copyright=\"Copyright (c) 2018 Software AG\" description=\"Default Description\">\\n        <Application name=\"Nyoka\" version=\"4.3.0\"/>\\n  ...  "
      ]
     },
     "execution_count": 3,
     "metadata": {},
     "output_type": "execute_result"
    }
   ],
   "source": [
    "pd.options.display.max_colwidth = 250\n",
    "pd.read_sql(\"select * from aoa_data.aoa_ivsm_models\", conn)"
   ]
  },
  {
   "cell_type": "markdown",
   "metadata": {},
   "source": [
    "## Scoring bajo demanda\n",
    "\n",
    "Para realizar scoring bajo demanda, solo hay que ejecutar una consulta SQL similar a la que se muestra a continuación, donde se debe definir la tabla a predecir, el identificador del modelo y la versión del modelo."
   ]
  },
  {
   "cell_type": "code",
   "execution_count": 4,
   "metadata": {},
   "outputs": [
    {
     "data": {
      "text/html": [
       "<div>\n",
       "<style scoped>\n",
       "    .dataframe tbody tr th:only-of-type {\n",
       "        vertical-align: middle;\n",
       "    }\n",
       "\n",
       "    .dataframe tbody tr th {\n",
       "        vertical-align: top;\n",
       "    }\n",
       "\n",
       "    .dataframe thead th {\n",
       "        text-align: right;\n",
       "    }\n",
       "</style>\n",
       "<table border=\"1\" class=\"dataframe\">\n",
       "  <thead>\n",
       "    <tr style=\"text-align: right;\">\n",
       "      <th></th>\n",
       "      <th>id</th>\n",
       "      <th>score_result</th>\n",
       "    </tr>\n",
       "  </thead>\n",
       "  <tbody>\n",
       "    <tr>\n",
       "      <th>0</th>\n",
       "      <td>762</td>\n",
       "      <td>{\"probability_0\":0.7702602150213241,\"probability_1\":0.22973978497867584,\"predicted_ptarget\":0,\"probability\":0.7702602150213241}</td>\n",
       "    </tr>\n",
       "    <tr>\n",
       "      <th>1</th>\n",
       "      <td>763</td>\n",
       "      <td>{\"probability_0\":0.27459126505508746,\"probability_1\":0.7254087349449125,\"predicted_ptarget\":1,\"probability\":0.7254087349449125}</td>\n",
       "    </tr>\n",
       "    <tr>\n",
       "      <th>2</th>\n",
       "      <td>764</td>\n",
       "      <td>{\"probability_0\":0.31745134809519304,\"probability_1\":0.682548651904807,\"predicted_ptarget\":1,\"probability\":0.682548651904807}</td>\n",
       "    </tr>\n",
       "    <tr>\n",
       "      <th>3</th>\n",
       "      <td>765</td>\n",
       "      <td>{\"probability_0\":0.9271389074598685,\"probability_1\":0.07286109254013155,\"predicted_ptarget\":0,\"probability\":0.9271389074598685}</td>\n",
       "    </tr>\n",
       "    <tr>\n",
       "      <th>4</th>\n",
       "      <td>423</td>\n",
       "      <td>{\"probability_0\":0.5675869655216632,\"probability_1\":0.4324130344783368,\"predicted_ptarget\":0,\"probability\":0.5675869655216632}</td>\n",
       "    </tr>\n",
       "  </tbody>\n",
       "</table>\n",
       "</div>"
      ],
      "text/plain": [
       "    id  \\\n",
       "0  762   \n",
       "1  763   \n",
       "2  764   \n",
       "3  765   \n",
       "4  423   \n",
       "\n",
       "                                                                                                                      score_result  \n",
       "0  {\"probability_0\":0.7702602150213241,\"probability_1\":0.22973978497867584,\"predicted_ptarget\":0,\"probability\":0.7702602150213241}  \n",
       "1  {\"probability_0\":0.27459126505508746,\"probability_1\":0.7254087349449125,\"predicted_ptarget\":1,\"probability\":0.7254087349449125}  \n",
       "2    {\"probability_0\":0.31745134809519304,\"probability_1\":0.682548651904807,\"predicted_ptarget\":1,\"probability\":0.682548651904807}  \n",
       "3  {\"probability_0\":0.9271389074598685,\"probability_1\":0.07286109254013155,\"predicted_ptarget\":0,\"probability\":0.9271389074598685}  \n",
       "4   {\"probability_0\":0.5675869655216632,\"probability_1\":0.4324130344783368,\"predicted_ptarget\":0,\"probability\":0.5675869655216632}  "
      ]
     },
     "execution_count": 4,
     "metadata": {},
     "output_type": "execute_result"
    }
   ],
   "source": [
    "query=\"\"\"\n",
    "SELECT * FROM ivsm.IVSM_SCORE(\n",
    "    on ACC_TEST\n",
    "    on (SELECT model_id, model FROM aoa_data.aoa_ivsm_models WHERE model_version = 'df300e1a-781b-4b3e-9b8e-f32ef54c7a89') AS ModelTable DIMENSION\n",
    "    using\n",
    "        ModelID('73d3f5a1-a5a9-55fd-9fe8-298a8aa7929d')\n",
    "        ColumnsToPreserve('id')\n",
    "        ModelType('PMML')\n",
    ") sc;\n",
    "\"\"\"\n",
    "pd.read_sql(query, conn).head()"
   ]
  },
  {
   "cell_type": "markdown",
   "metadata": {},
   "source": [
    "Copyright 2021 Teradata. All rights reserved."
   ]
  }
 ],
 "metadata": {
  "kernelspec": {
   "display_name": "Python 3.9",
   "language": "python",
   "name": "python3"
  },
  "language_info": {
   "codemirror_mode": {
    "name": "ipython",
    "version": 3
   },
   "file_extension": ".py",
   "mimetype": "text/x-python",
   "name": "python",
   "nbconvert_exporter": "python",
   "pygments_lexer": "ipython3",
   "version": "3.9.7"
  }
 },
 "nbformat": 4,
 "nbformat_minor": 4
}
